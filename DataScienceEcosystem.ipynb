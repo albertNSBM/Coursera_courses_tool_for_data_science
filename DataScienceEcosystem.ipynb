{
 "cells": [
  {
   "cell_type": "markdown",
   "id": "d3a4f4a0",
   "metadata": {},
   "source": [
    "# Data Science Tools and Ecosystem"
   ]
  },
  {
   "cell_type": "markdown",
   "id": "c1173ad0",
   "metadata": {},
   "source": [
    "In this notebook, Data Science Tools and Ecosystem are summarized"
   ]
  },
  {
   "cell_type": "markdown",
   "id": "fdb4e997",
   "metadata": {},
   "source": [
    "#### Objectives:\n",
    "\n",
    "- List popular laguages for Data science\n",
    "- List most popular tools for Data scienc\n",
    "- List most popular libraries of Datascience\n",
    "- Arithmetic expressions\n"
   ]
  },
  {
   "cell_type": "markdown",
   "id": "73655000",
   "metadata": {},
   "source": [
    "Some of the popular languages that Data Scientists use are:\n",
    "\n",
    "1. Python \n",
    "2. R\n",
    "3. SQL\n",
    "4. Java\n",
    "5. C++\n",
    "6. Julia\n",
    "7. Scala"
   ]
  },
  {
   "cell_type": "markdown",
   "id": "d7b47b49",
   "metadata": {},
   "source": [
    "Some of the commonly used libraries used by Data Scientists include:\n",
    "   1. Pandas \n",
    "   2. Matplotlib \n",
    "   3. Tensorlow \n",
    "   4. Pytorch\n",
    "   5. Skitilearn\n",
    "   6. Seaborn\n",
    "   7. Plotly\n",
    "   8. Keras"
   ]
  },
  {
   "cell_type": "markdown",
   "id": "ca133206",
   "metadata": {},
   "source": [
    "|Data Science Tools|\n",
    "|------------------|\n",
    "|JupyterNotebook   |\n",
    "|JupyterLab        |\n",
    "|Rstudio           |\n",
    "|Spider            |\n",
    "|vscode            |\n",
    "|Pycharm           |"
   ]
  },
  {
   "cell_type": "markdown",
   "id": "e824f954",
   "metadata": {},
   "source": [
    "### Below are a few examples of evaluating arithmetic expressions in Python\n",
    "\n",
    "addition: 1+1=2\n",
    "multiplication: 2*2=4\n",
    "division: 2/2=1\n",
    "\n"
   ]
  },
  {
   "cell_type": "code",
   "execution_count": 3,
   "id": "80e947f7",
   "metadata": {},
   "outputs": [
    {
     "data": {
      "text/plain": [
       "17"
      ]
     },
     "execution_count": 3,
     "metadata": {},
     "output_type": "execute_result"
    }
   ],
   "source": [
    "#This a simple arithmetic expression to mutiply then add integers\n",
    "(3*4)+5"
   ]
  },
  {
   "cell_type": "code",
   "execution_count": 4,
   "id": "23da0d7d",
   "metadata": {},
   "outputs": [
    {
     "data": {
      "text/plain": [
       "3.3333333333333335"
      ]
     },
     "execution_count": 4,
     "metadata": {},
     "output_type": "execute_result"
    }
   ],
   "source": [
    "#This will convert 200 minutes to hours by diving by 60\n",
    "200/60"
   ]
  },
  {
   "cell_type": "markdown",
   "id": "83d85818",
   "metadata": {},
   "source": [
    "## Author\n",
    "\n",
    "##### Albert Nsabimana"
   ]
  }
 ],
 "metadata": {
  "kernelspec": {
   "display_name": "Python 3 (ipykernel)",
   "language": "python",
   "name": "python3"
  },
  "language_info": {
   "codemirror_mode": {
    "name": "ipython",
    "version": 3
   },
   "file_extension": ".py",
   "mimetype": "text/x-python",
   "name": "python",
   "nbconvert_exporter": "python",
   "pygments_lexer": "ipython3",
   "version": "3.10.9"
  }
 },
 "nbformat": 4,
 "nbformat_minor": 5
}
